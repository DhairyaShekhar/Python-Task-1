DAY-1

(2) List Some Mega Projects hosted in Python 
    Database Projects: Management Systems (Library, Hotel, Hospital, School) 
    ML Projects: Classification 
    AI Projects: Chatbots, face detection and recognition, speech recognition, Security 
    Data Science Projects: Global Terrorism Analysis, Call Data Record Analysis 

 
(3) List Python Libraries Used in Different IT Domains 
    Pandas, numpy, matplotlib, tkinter, sklearn, tensorflow 

#4 Create a Program and execute a script in Python
print("hello world")
a=45
b=5
c=a+b
print("sum is :", c)


 
